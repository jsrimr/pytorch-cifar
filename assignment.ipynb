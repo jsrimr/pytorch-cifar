{
 "cells": [
  {
   "cell_type": "code",
   "execution_count": 2,
   "metadata": {},
   "outputs": [],
   "source": [
    "import torch\n",
    "from models.mobilenetv2 import MobileNetV2\n",
    "from models.mobilenetv2_wider import wider_MobileNetV2\n",
    "from models.mobilenetv2_deeper import deeper_MobileNetV2\n"
   ]
  },
  {
   "cell_type": "code",
   "execution_count": 3,
   "metadata": {},
   "outputs": [],
   "source": [
    "net = MobileNetV2()\n",
    "wider_net = wider_MobileNetV2()\n",
    "deeper_net = deeper_MobileNetV2()"
   ]
  },
  {
   "cell_type": "code",
   "execution_count": null,
   "metadata": {},
   "outputs": [],
   "source": [
    "# function preservation 구현하기\n",
    "# net_transform_wider , net_transform_deeper function 을 구현해서 아래 test 를 통과해보세요\n",
    "# 현재 셀의 function call 은 예시일 뿐, 자유롭게 구현하셔도 됩니다. 아래 셀의 test 만 통과하면 됩니다.\n",
    "\n",
    "new_weights = net_transform_wider(net, wider_net)\n",
    "wider_net.load_state_dict(new_weights)\n",
    "\n",
    "new_weights = net_transform_deeper(net, deeper_net)\n",
    "deeper_net.load_state_dict(new_weights)"
   ]
  },
  {
   "cell_type": "code",
   "execution_count": null,
   "metadata": {},
   "outputs": [],
   "source": [
    "# test\n",
    "x = torch.rand(1,3,32,32)\n",
    "result = net(x)\n",
    "result_wider = wider_net(x)\n",
    "result_deeper = deeper_net(x)\n",
    "\n",
    "assert torch.allclose(result,result_wider)\n",
    "assert torch.allclose(result,result_deeper)"
   ]
  }
 ],
 "metadata": {
  "interpreter": {
   "hash": "31f2aee4e71d21fbe5cf8b01ff0e069b9275f58929596ceb00d14d90e3e16cd6"
  },
  "kernelspec": {
   "display_name": "Python 3.8.2 64-bit",
   "language": "python",
   "name": "python3"
  },
  "language_info": {
   "codemirror_mode": {
    "name": "ipython",
    "version": 3
   },
   "file_extension": ".py",
   "mimetype": "text/x-python",
   "name": "python",
   "nbconvert_exporter": "python",
   "pygments_lexer": "ipython3",
   "version": "3.8.12"
  },
  "orig_nbformat": 4
 },
 "nbformat": 4,
 "nbformat_minor": 2
}
